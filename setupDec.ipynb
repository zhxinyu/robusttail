{
 "cells": [
  {
   "cell_type": "code",
   "execution_count": 7,
   "id": "5c0fb61b-92af-4397-b5f7-106a2dbd147d",
   "metadata": {},
   "outputs": [],
   "source": [
    "## Table two"
   ]
  },
  {
   "cell_type": "code",
   "execution_count": 4,
   "id": "1def21fa-b233-4298-8151-48cf3dbe6857",
   "metadata": {},
   "outputs": [],
   "source": [
    "from multiprocessing import Pool\n",
    "import quantileEstimationUnit as qe\n",
    "from scipy.stats import gamma, lognorm, pareto, genpareto\n",
    "import pandas as pd\n",
    "import numpy as np\n",
    "import os\n",
    "import itertools\n",
    "import sys\n",
    "import traceback"
   ]
  },
  {
   "cell_type": "code",
   "execution_count": 5,
   "id": "30f4d406-f92c-45f0-83cf-d80e8a3abdd9",
   "metadata": {},
   "outputs": [],
   "source": [
    "import dataPreparationUtils as dpu\n"
   ]
  },
  {
   "cell_type": "code",
   "execution_count": 25,
   "id": "3e531759-6b84-49f9-aacd-5e23f53d019e",
   "metadata": {},
   "outputs": [],
   "source": [
    "FILE_DIR = \"small\"\n",
    "metaDataDict = {\"dataSize\": 500,\n",
    "                \"quantitleValue\": 0.99,\n",
    "                \"thresholdPercentage\": 0.7,\n",
    "                \"alpha\": 0.05,\n",
    "                \"gEllipsoidalDimension\": 3}\n",
    "\n",
    "dataModuleToDefaultParamDict = {\n",
    "    gamma: {\"a\": 0.5, \"scale\": 1},  # a: shape parameter\n",
    "    lognorm:  {\"loc\": 0, \"s\": 1},     # s: standard deviation, loc: mean\n",
    "    pareto: {\"b\": 1.5, \"scale\": 1},     # b: shape parameter\n",
    "    genpareto: {\"c\": 2.17}}              # c: shape parameter "
   ]
  },
  {
   "cell_type": "code",
   "execution_count": 26,
   "id": "4789162f-1e49-45df-a55d-93646759eb6e",
   "metadata": {},
   "outputs": [
    {
     "data": {
      "text/plain": [
       "(3.3174483005106072, 10.240473656312131, 21.54434690031882)"
      ]
     },
     "execution_count": 26,
     "metadata": {},
     "output_type": "execute_result"
    }
   ],
   "source": [
    "(dpu.endPointGeneration(gamma, 0.99, dataModuleToDefaultParamDict[gamma]), \n",
    "dpu.endPointGeneration(lognorm, 0.99, dataModuleToDefaultParamDict[lognorm]),\n",
    " dpu.endPointGeneration(pareto, 0.99, dataModuleToDefaultParamDict[pareto]))"
   ]
  },
  {
   "cell_type": "code",
   "execution_count": null,
   "id": "414c88b7-1b3b-4fcd-85b5-454293735091",
   "metadata": {},
   "outputs": [],
   "source": []
  }
 ],
 "metadata": {
  "kernelspec": {
   "display_name": "Python 3",
   "language": "python",
   "name": "python3"
  },
  "language_info": {
   "codemirror_mode": {
    "name": "ipython",
    "version": 3
   },
   "file_extension": ".py",
   "mimetype": "text/x-python",
   "name": "python",
   "nbconvert_exporter": "python",
   "pygments_lexer": "ipython3",
   "version": "3.8.5"
  }
 },
 "nbformat": 4,
 "nbformat_minor": 5
}
