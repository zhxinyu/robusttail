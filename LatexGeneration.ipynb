{
 "cells": [
  {
   "cell_type": "code",
   "execution_count": 1,
   "id": "384a59b2-07fb-44ab-8b5a-e6f8c79d6b4e",
   "metadata": {},
   "outputs": [],
   "source": [
    "import numpy as np\n",
    "import pandas as pd\n",
    "import itertools\n",
    "import os\n",
    "import readData\n",
    "import latexCodeGen"
   ]
  },
  {
   "cell_type": "code",
   "execution_count": 2,
   "id": "37e7f69b-107d-4e43-9d35-e625c7a7bf24",
   "metadata": {},
   "outputs": [],
   "source": [
    "FILE_DIR = \"testResultSmall-copy\"\n",
    "nExperimentReptition = 10\n",
    "randomSeed = 20220222\n",
    "trueValue = 0.005\n",
    "dataDistributions = ['gamma', 'lognorm', 'pareto']\n",
    "dataSizes = [500, 800]"
   ]
  },
  {
   "cell_type": "markdown",
   "id": "61142f16-d9d5-49bb-9069-4cf7c6a2105e",
   "metadata": {},
   "source": [
    "## 1. Read data\n",
    "\n",
    "- Tail probability estimation with single threshold\n",
    "- Tail probability estimation with multiple thresholds\n",
    "- Quantile estimation with single threshold\n",
    "- Quantile estimation with multiple thresholds"
   ]
  },
  {
   "cell_type": "code",
   "execution_count": 3,
   "id": "3c589c50-582c-41a2-b015-1d1da90bf01f",
   "metadata": {
    "tags": []
   },
   "outputs": [],
   "source": [
    "cumDf1 = readData.tpeWsingle()\n",
    "cumDf2 = readData.tpeWmultiple()\n",
    "cumDf3 = readData.qeWsingle()\n",
    "cumDf4 = readData.qeWmultiple()\n",
    "go1 = cumDf1.groupby(by=['dataDistribution','dataSize','percentageLHS','thresholdPercentage'])\n",
    "go2 = cumDf2.groupby(by=['dataDistribution','dataSize','percentageLHS','thresholdPercentage'])\n",
    "go3 = cumDf3.groupby(by=['dataDistribution','dataSize','quantitleValue','thresholdPercentage'])\n",
    "go4 = cumDf4.groupby(by=['dataDistribution','dataSize','quantitleValue','thresholdPercentage'])"
   ]
  },
  {
   "cell_type": "markdown",
   "id": "e85333d8-a5cb-43f8-a388-37b586c39bd2",
   "metadata": {},
   "source": [
    "## Latex Code Generation"
   ]
  },
  {
   "cell_type": "markdown",
   "id": "a3517f0b-3931-4c9f-9abd-9a14c0d079f1",
   "metadata": {},
   "source": [
    "## Table 1"
   ]
  },
  {
   "cell_type": "code",
   "execution_count": 9,
   "id": "ee4b35b0-e642-4cbc-a801-3ce98d2d6586",
   "metadata": {},
   "outputs": [],
   "source": [
    "dataSources = [\"gamma\",\"lognorm\", \"pareto\"]\n",
    "nDatas = [500, 800]\n",
    "percentageLHS = 0.99\n",
    "thresholdPercentage = 0.70\n",
    "targetColumns = ['(0,CHI2)','(1,CHI2)','(2,CHI2)','(0,KS)','(1,KS)','(2,KS)']\n",
    "text_file = open(\"./robustTailTable/table1.tex\", \"w\")\n",
    "text_file.write(latexCodeGen.getTableOne(go1, dataSources, nDatas, percentageLHS, thresholdPercentage, targetColumns, \n",
    "                   \"Tail probablity estimation under different constraint settings. \",\n",
    "                   \"tb1_tpe\", 0.8).strip())\n",
    "text_file.close()"
   ]
  },
  {
   "cell_type": "markdown",
   "id": "2dfea9c6-6654-4f69-b355-5f12d0e107c7",
   "metadata": {},
   "source": [
    "## Table 2"
   ]
  },
  {
   "cell_type": "code",
   "execution_count": 10,
   "id": "fd8c4ae2-f124-4aa4-bd9e-73d5b59540fe",
   "metadata": {},
   "outputs": [],
   "source": [
    "dataSources = [\"gamma\",\"lognorm\", \"pareto\"]\n",
    "nDatas = [500, 800]\n",
    "percentageLHS = 0.99\n",
    "thresholdPercentage = 0.70\n",
    "targetColumns = ['(0,CHI2)','(1,CHI2)','(2,CHI2)']\n",
    "text_file = open(\"./robustTailTable/table2.tex\", \"w\")\n",
    "text_file.write(latexCodeGen.getTableTwo(go3, dataSources, nDatas, percentageLHS, thresholdPercentage, targetColumns, \n",
    "                   \"Quantitle estimation under different constraint settings. \",\n",
    "                   \"tb2_qe\", 0.75).strip())\n",
    "text_file.close()"
   ]
  },
  {
   "cell_type": "markdown",
   "id": "618326ee-8f1e-4efc-ac4f-c72e7aa4dc59",
   "metadata": {},
   "source": [
    "## Table 3"
   ]
  },
  {
   "cell_type": "code",
   "execution_count": 13,
   "id": "4c2aff3d-2294-464b-8bab-de1ab488238d",
   "metadata": {},
   "outputs": [],
   "source": [
    "dataSources = [\"gamma\",\"lognorm\", \"pareto\"]\n",
    "nDatas = [500, 800]\n",
    "percentageLHS = 0.99\n",
    "thresholdPercentages = [0.6, 0.65, 0.70, 0.75]\n",
    "targetColumns = ['(1,CHI2)','(2,CHI2)']\n",
    "text_file = open(\"./robustTailTable/table3.tex\", \"w\")\n",
    "text_file.write(latexCodeGen.getTableThree(go1, go2, dataSources, nDatas, percentageLHS, thresholdPercentages, targetColumns, \n",
    "                   \"Tail probablity estimation under different cutoff threshold(s). \",\n",
    "                   \"tb3_tpe\", 0.56).strip())\n",
    "text_file.close()"
   ]
  },
  {
   "cell_type": "markdown",
   "id": "771c5690-5792-46d2-a082-e74e5d9a7da1",
   "metadata": {},
   "source": [
    "## Table 4"
   ]
  },
  {
   "cell_type": "code",
   "execution_count": 14,
   "id": "125116e6-ebbf-490b-967c-fa946c0041ad",
   "metadata": {},
   "outputs": [],
   "source": [
    "dataSources = [\"gamma\",\"lognorm\", \"pareto\"]\n",
    "nDatas = [500, 800]\n",
    "percentageLHSs = np.linspace(0.9, 0.99, 10).tolist()\n",
    "thresholdPercentage = 0.7\n",
    "targetColumns = ['(2,CHI2)','(2,KS)']\n",
    "text_file = open(\"./robustTailTable/table4.tex\", \"w\")\n",
    "text_file.write(latexCodeGen.getTableFour(go1, dataSources, nDatas, percentageLHSs, thresholdPercentage, targetColumns, \n",
    "                   \"Tail probablity estimation under different objective functions. \",\n",
    "                   \"tb4_tpe_{:}\".format(thresholdPercentage),0.7).strip())\n",
    "text_file.close()"
   ]
  },
  {
   "cell_type": "markdown",
   "id": "9334f291-467a-4421-bce7-316a5bf6a0f0",
   "metadata": {},
   "source": [
    "## Table 5: TBD "
   ]
  },
  {
   "cell_type": "code",
   "execution_count": null,
   "id": "7c9bd59b-c6a4-46c7-8983-29c81712c14e",
   "metadata": {},
   "outputs": [],
   "source": []
  }
 ],
 "metadata": {
  "kernelspec": {
   "display_name": "Python 3",
   "language": "python",
   "name": "python3"
  },
  "language_info": {
   "codemirror_mode": {
    "name": "ipython",
    "version": 3
   },
   "file_extension": ".py",
   "mimetype": "text/x-python",
   "name": "python",
   "nbconvert_exporter": "python",
   "pygments_lexer": "ipython3",
   "version": "3.8.5"
  }
 },
 "nbformat": 4,
 "nbformat_minor": 5
}
