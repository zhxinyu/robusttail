{
 "cells": [
  {
   "cell_type": "code",
   "execution_count": 1,
   "id": "5c0fb61b-92af-4397-b5f7-106a2dbd147d",
   "metadata": {},
   "outputs": [],
   "source": [
    "## Table two"
   ]
  },
  {
   "cell_type": "code",
   "execution_count": 2,
   "id": "1def21fa-b233-4298-8151-48cf3dbe6857",
   "metadata": {},
   "outputs": [],
   "source": [
    "from multiprocessing import Pool\n",
    "import quantileEstimationUnit as qe\n",
    "from scipy.stats import gamma, lognorm, pareto\n",
    "import pandas as pd\n",
    "import numpy as np\n",
    "import os\n",
    "import itertools\n",
    "import sys\n",
    "import traceback\n",
    "import dataPreparationUtils as dpu\n",
    "import optimizationUnit as ou\n",
    "\n",
    "FILE_DIR = \"small\"\n",
    "\n",
    "metaDataDict = {\"dataSize\": 500,\n",
    "                \"quantitleValue\": 0.99,\n",
    "                \"thresholdPercentage\": 0.7,\n",
    "                \"alpha\": 0.05,\n",
    "                \"gEllipsoidalDimension\": 3}\n",
    "\n",
    "stringToDataModule = {\"gamma\": gamma,\n",
    "                      \"lognorm\": lognorm,\n",
    "                      \"pareto\": pareto}\n"
   ]
  },
  {
   "cell_type": "code",
   "execution_count": 3,
   "id": "7163675c-c31c-428c-aeba-50687ed7ab49",
   "metadata": {},
   "outputs": [
    {
     "ename": "AssertionError",
     "evalue": "",
     "output_type": "error",
     "traceback": [
      "\u001b[0;31m---------------------------------------------------------------------------\u001b[0m",
      "\u001b[0;31mAssertionError\u001b[0m                            Traceback (most recent call last)",
      "\u001b[0;32m<ipython-input-3-e923e4cb41f0>\u001b[0m in \u001b[0;36m<module>\u001b[0;34m\u001b[0m\n\u001b[1;32m     34\u001b[0m         \u001b[0mrhsPoint\u001b[0m \u001b[0;34m=\u001b[0m \u001b[0mnp\u001b[0m\u001b[0;34m.\u001b[0m\u001b[0minf\u001b[0m\u001b[0;34m\u001b[0m\u001b[0;34m\u001b[0m\u001b[0m\n\u001b[1;32m     35\u001b[0m         \u001b[0mmidPoint\u001b[0m \u001b[0;34m=\u001b[0m \u001b[0;36m2\u001b[0m\u001b[0;34m*\u001b[0m\u001b[0mlhsPoint\u001b[0m\u001b[0;34m\u001b[0m\u001b[0;34m\u001b[0m\u001b[0m\n\u001b[0;32m---> 36\u001b[0;31m         \u001b[0;32massert\u001b[0m \u001b[0;32mFalse\u001b[0m\u001b[0;34m\u001b[0m\u001b[0;34m\u001b[0m\u001b[0m\n\u001b[0m\u001b[1;32m     37\u001b[0m         ou.OptimizationWithRectangularConstraint(1,\n\u001b[1;32m     38\u001b[0m                                                  \u001b[0minputData\u001b[0m\u001b[0;34m,\u001b[0m\u001b[0;34m\u001b[0m\u001b[0;34m\u001b[0m\u001b[0m\n",
      "\u001b[0;31mAssertionError\u001b[0m: "
     ]
    }
   ],
   "source": [
    "nExperimentReptition = 10\n",
    "randomSeed = 20220222\n",
    "# trueValue = dpu.endPointGeneration(\n",
    "#     gamma, quantitleValue, dpu.dataModuleToDefaultParamDict[gamma])\n",
    "dataDistributions = ['gamma', 'lognorm', 'pareto']\n",
    "thresholdPercentages = [0.70]\n",
    "# served as the target percentage the problem aims to estimate the quantile point from.\n",
    "quantitleValues = [0.99]\n",
    "dataSizes = [500]\n",
    "for dataDistribution, dataSize, quantitleValue, thresholdPercentage in itertools.product(*[dataDistributions, dataSizes, quantitleValues, thresholdPercentages]):\n",
    "    metaDataDict[\"dataSize\"] = dataSize\n",
    "    metaDataDict[\"quantitleValue\"] = quantitleValue\n",
    "    metaDataDict[\"thresholdPercentage\"] = thresholdPercentage\n",
    "    assert \"random_state\" not in metaDataDict\n",
    "    poolParamList = [(dataDistribution, metaDataDict, random_state+randomSeed)\n",
    "                     for random_state in range(nExperimentReptition)]\n",
    "    FILE_NAME = [\"quantileEstimation\"]\n",
    "    FILE_NAME += [\"dataDistribution=\"+dataDistribution]\n",
    "    FILE_NAME += [key+\"=\"+str(metaDataDict[key])\n",
    "                  for key in metaDataDict]\n",
    "    FILE_NAME += [\"randomSeed=\"+str(randomSeed)]\n",
    "    FILE_NAME += [\"nExperimentReptition=\"+str(nExperimentReptition)]\n",
    "    FILE_NAME = '_'.join(FILE_NAME)+\".csv\"\n",
    "    FILE_NAME = FILE_NAME.replace(\"00000000000001\",\"\").replace(\"0000000000001\",\"\")\n",
    "    \n",
    "    for i in range(len(poolParamList)):\n",
    "        dataDistribution, metaDataDict, random_state = poolParamList[i]\n",
    "        metaDataDict[\"random_state\"] = random_state\n",
    "        dataModule = stringToDataModule[dataDistribution]\n",
    "        inputData = dpu.RawDataGeneration(dataModule, dpu.dataModuleToDefaultParamDict[dataModule], metaDataDict['dataSize'], metaDataDict['random_state'])\n",
    "        startQuantilePoint = np.quantile(inputData, thresholdPercentage)\n",
    "        targetValue = 1-0.99\n",
    "        lhsPoint = startQuantilePoint\n",
    "        rhsPoint = np.inf\n",
    "        midPoint = 2*lhsPoint\n",
    "        assert False\n",
    "        ou.OptimizationWithRectangularConstraint(1,\n",
    "                                                 inputData,\n",
    "                                                 metaDataDict['thresholdPercentage'],\n",
    "                                                 metaDataDict['alpha'],\n",
    "                                                 midPoint, np.inf,\n",
    "                                                 inputData.size, 7*metaDataDict['random_state']+1)"
   ]
  },
  {
   "cell_type": "code",
   "execution_count": 15,
   "id": "b71773b2-19ad-46cf-bbc9-406659d81982",
   "metadata": {},
   "outputs": [
    {
     "data": {
      "text/plain": [
       "0.06919457737022776"
      ]
     },
     "execution_count": 15,
     "metadata": {},
     "output_type": "execute_result"
    }
   ],
   "source": [
    "ou.OptimizationWithRectangularConstraint(2,\n",
    "                                         inputData,\n",
    "                                         metaDataDict['thresholdPercentage'],\n",
    "                                         metaDataDict['alpha'],\n",
    "                                         midPoint*20, np.inf,\n",
    "                                         inputData.size, 7*metaDataDict['random_state']+1)"
   ]
  },
  {
   "cell_type": "code",
   "execution_count": 17,
   "id": "4b606c28-ef47-48aa-8395-1f133627889a",
   "metadata": {},
   "outputs": [],
   "source": [
    "threshold = np.quantile(inputData, 0.7)\n",
    "dataOverThreshold = np.sort(inputData[inputData > threshold])\n",
    "sizeOverThreshold = np.sum(inputData > threshold)\n",
    "sizeOnData = inputData.shape[0]"
   ]
  },
  {
   "cell_type": "code",
   "execution_count": 20,
   "id": "46e55f30-1396-49b9-9f95-869bfd7cb0c0",
   "metadata": {},
   "outputs": [],
   "source": [
    "from calibration import etaSpecification, nuSpecification, zOfChiSquare, zOfKolmogorov\n"
   ]
  },
  {
   "cell_type": "code",
   "execution_count": 25,
   "id": "3e81c69c-de73-4259-b67f-5ce37cddb854",
   "metadata": {},
   "outputs": [],
   "source": [
    "z = zOfKolmogorov(alpha=0.05,\n",
    "                  D_riser_number=1,\n",
    "                  numMultiThreshold=1)\n",
    "\n",
    "\n",
    "mu_lb_value = np.maximum(0, (sizeOnData+1-np.arange(\n",
    "    sizeOnData-sizeOverThreshold+1, sizeOnData+1))/sizeOnData-z/np.sqrt(sizeOnData))\n",
    "mu_ub_value = np.minimum(1, (sizeOnData-np.arange(\n",
    "    sizeOnData-sizeOverThreshold+1, sizeOnData+1))/sizeOnData+z/np.sqrt(sizeOnData))"
   ]
  },
  {
   "cell_type": "code",
   "execution_count": 26,
   "id": "69357d89-11d2-42ae-8d18-ae1bdd74c77b",
   "metadata": {},
   "outputs": [
    {
     "data": {
      "text/plain": [
       "array([0.36419686, 0.36219686, 0.36019686, 0.35819686, 0.35619686,\n",
       "       0.35419686, 0.35219686, 0.35019686, 0.34819686, 0.34619686,\n",
       "       0.34419686, 0.34219686, 0.34019686, 0.33819686, 0.33619686,\n",
       "       0.33419686, 0.33219686, 0.33019686, 0.32819686, 0.32619686,\n",
       "       0.32419686, 0.32219686, 0.32019686, 0.31819686, 0.31619686,\n",
       "       0.31419686, 0.31219686, 0.31019686, 0.30819686, 0.30619686,\n",
       "       0.30419686, 0.30219686, 0.30019686, 0.29819686, 0.29619686,\n",
       "       0.29419686, 0.29219686, 0.29019686, 0.28819686, 0.28619686,\n",
       "       0.28419686, 0.28219686, 0.28019686, 0.27819686, 0.27619686,\n",
       "       0.27419686, 0.27219686, 0.27019686, 0.26819686, 0.26619686,\n",
       "       0.26419686, 0.26219686, 0.26019686, 0.25819686, 0.25619686,\n",
       "       0.25419686, 0.25219686, 0.25019686, 0.24819686, 0.24619686,\n",
       "       0.24419686, 0.24219686, 0.24019686, 0.23819686, 0.23619686,\n",
       "       0.23419686, 0.23219686, 0.23019686, 0.22819686, 0.22619686,\n",
       "       0.22419686, 0.22219686, 0.22019686, 0.21819686, 0.21619686,\n",
       "       0.21419686, 0.21219686, 0.21019686, 0.20819686, 0.20619686,\n",
       "       0.20419686, 0.20219686, 0.20019686, 0.19819686, 0.19619686,\n",
       "       0.19419686, 0.19219686, 0.19019686, 0.18819686, 0.18619686,\n",
       "       0.18419686, 0.18219686, 0.18019686, 0.17819686, 0.17619686,\n",
       "       0.17419686, 0.17219686, 0.17019686, 0.16819686, 0.16619686,\n",
       "       0.16419686, 0.16219686, 0.16019686, 0.15819686, 0.15619686,\n",
       "       0.15419686, 0.15219686, 0.15019686, 0.14819686, 0.14619686,\n",
       "       0.14419686, 0.14219686, 0.14019686, 0.13819686, 0.13619686,\n",
       "       0.13419686, 0.13219686, 0.13019686, 0.12819686, 0.12619686,\n",
       "       0.12419686, 0.12219686, 0.12019686, 0.11819686, 0.11619686,\n",
       "       0.11419686, 0.11219686, 0.11019686, 0.10819686, 0.10619686,\n",
       "       0.10419686, 0.10219686, 0.10019686, 0.09819686, 0.09619686,\n",
       "       0.09419686, 0.09219686, 0.09019686, 0.08819686, 0.08619686,\n",
       "       0.08419686, 0.08219686, 0.08019686, 0.07819686, 0.07619686,\n",
       "       0.07419686, 0.07219686, 0.07019686, 0.06819686, 0.06619686])"
      ]
     },
     "execution_count": 26,
     "metadata": {},
     "output_type": "execute_result"
    }
   ],
   "source": [
    "mu_ub_value"
   ]
  },
  {
   "cell_type": "code",
   "execution_count": null,
   "id": "351ed28b-4d0d-416c-abd9-2dcf3834b3ca",
   "metadata": {},
   "outputs": [],
   "source": []
  }
 ],
 "metadata": {
  "kernelspec": {
   "display_name": "Python 3",
   "language": "python",
   "name": "python3"
  },
  "language_info": {
   "codemirror_mode": {
    "name": "ipython",
    "version": 3
   },
   "file_extension": ".py",
   "mimetype": "text/x-python",
   "name": "python",
   "nbconvert_exporter": "python",
   "pygments_lexer": "ipython3",
   "version": "3.8.8"
  }
 },
 "nbformat": 4,
 "nbformat_minor": 5
}
