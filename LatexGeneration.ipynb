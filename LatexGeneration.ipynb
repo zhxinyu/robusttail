{
 "cells": [
  {
   "cell_type": "code",
   "execution_count": 1,
   "metadata": {},
   "outputs": [],
   "source": [
    "import numpy as np\n",
    "import pandas as pd\n",
    "import itertools\n",
    "import os\n",
    "import readDataV2\n",
    "import latexCodeGen\n",
    "import latexCodeGenV2"
   ]
  },
  {
   "cell_type": "code",
   "execution_count": 2,
   "metadata": {},
   "outputs": [],
   "source": [
    "FILE_DIR = \"large\"\n",
    "nExperimentReptition = 200\n",
    "randomSeed = 20220222\n",
    "trueValue = 0.005\n",
    "dataDistributions = ['gamma', 'lognorm', 'pareto']\n",
    "dataSizes = [500]"
   ]
  },
  {
   "cell_type": "markdown",
   "metadata": {},
   "source": [
    "## 1. Read data\n",
    "\n",
    "- Tail probability estimation with single threshold\n",
    "- Tail probability estimation with multiple thresholds\n",
    "- Quantile estimation with single threshold\n",
    "- Quantile estimation with multiple thresholds"
   ]
  },
  {
   "cell_type": "code",
   "execution_count": 3,
   "metadata": {
    "tags": []
   },
   "outputs": [
    {
     "name": "stderr",
     "output_type": "stream",
     "text": [
      "E:\\Anaconda\\lib\\site-packages\\pandas\\core\\frame.py:7123: FutureWarning: Sorting because non-concatenation axis is not aligned. A future version\n",
      "of pandas will change to not sort by default.\n",
      "\n",
      "To accept the future behavior, pass 'sort=False'.\n",
      "\n",
      "To retain the current behavior and silence the warning, pass 'sort=True'.\n",
      "\n",
      "  sort=sort,\n"
     ]
    }
   ],
   "source": [
    "tb1 = readDataV2.tableOne().groupby(by=['dataDistribution','dataSize','percentageLHS','thresholdPercentage'])\n",
    "tb2 = readDataV2.tableTwo().groupby(by=['dataDistribution','dataSize','quantitleValue','thresholdPercentage'])\n",
    "tb31 = readDataV2.tableThreeOne().groupby(by=['dataDistribution','dataSize','percentageLHS','thresholdPercentage'])\n",
    "tb32 = readDataV2.tableThreeTwo().groupby(by=['dataDistribution','dataSize','percentageLHS','thresholdPercentage'])\n",
    "tb33 = readDataV2.tableThreeThree().groupby(by=['dataDistribution','dataSize','quantitleValue','thresholdPercentage'])\n",
    "tb34 = readDataV2.tableThreeFour().groupby(by=['dataDistribution','dataSize','quantitleValue','thresholdPercentage'])\n",
    "tb4 = readDataV2.tableFour().groupby(by=['dataDistribution','dataSize','percentageLHS','thresholdPercentage'])"
   ]
  },
  {
   "cell_type": "markdown",
   "metadata": {},
   "source": [
    "## Latex Code Generation"
   ]
  },
  {
   "cell_type": "markdown",
   "metadata": {},
   "source": [
    "## Table 1"
   ]
  },
  {
   "cell_type": "code",
   "execution_count": 4,
   "metadata": {},
   "outputs": [],
   "source": [
    "dataSources = [\"gamma\",\"lognorm\", \"pareto\"]\n",
    "nDatas = [500]\n",
    "percentageLHS = 0.99\n",
    "thresholdPercentage = 0.70\n",
    "targetColumns = ['(0,CHI2)','(1,CHI2)','(2,CHI2)','(0,KS)','(1,KS)','(2,KS)']\n",
    "text_file = open(\"./robustTailTable/table1.tex\", \"w\")\n",
    "text_file.write(latexCodeGenV2.getTableOne(tb1, dataSources, nDatas, percentageLHS, thresholdPercentage, targetColumns, \n",
    "                   \"Tail probability estimation under different constraint settings. \",\n",
    "                   \"tb1_tpe\", 0.8).strip())\n",
    "text_file.close()"
   ]
  },
  {
   "cell_type": "markdown",
   "metadata": {},
   "source": [
    "## Table 2"
   ]
  },
  {
   "cell_type": "code",
   "execution_count": 5,
   "metadata": {},
   "outputs": [],
   "source": [
    "dataSources = [\"gamma\",\"lognorm\", \"pareto\"]\n",
    "nDatas = [500]\n",
    "percentageLHS = 0.99\n",
    "thresholdPercentage = 0.70\n",
    "targetColumns = ['(0,CHI2)','(1,CHI2)','(2,CHI2)']\n",
    "text_file = open(\"./robustTailTable/table2.tex\", \"w\")\n",
    "text_file.write(latexCodeGenV2.getTableTwo(tb2, dataSources, nDatas, percentageLHS, thresholdPercentage, targetColumns, \n",
    "                   \"Quantile estimation under different constraint settings. \",\n",
    "                   \"tb2_qe\", 0.75).strip())\n",
    "text_file.close()"
   ]
  },
  {
   "cell_type": "markdown",
   "metadata": {},
   "source": [
    "## Table 3"
   ]
  },
  {
   "cell_type": "code",
   "execution_count": 6,
   "metadata": {},
   "outputs": [],
   "source": [
    "dataSources = [\"gamma\",\"lognorm\", \"pareto\"]\n",
    "nDatas = [500]\n",
    "percentageLHS = 0.99\n",
    "thresholdPercentages = 0.6\n",
    "targetColumns = ['(2,CHI2)']\n",
    "text_file = open(\"./robustTailTable/table3_tpe.tex\", \"w\")\n",
    "text_file.write(latexCodeGenV2.getTableThree(tb31, tb32, dataSources, nDatas, percentageLHS, thresholdPercentages, targetColumns, \n",
    "                   \"Tail probablity estimation under different cutoff threshold(s).\",\n",
    "                   \"tb3_tpe\", 0.75).strip())\n",
    "text_file = open(\"./robustTailTable/table3_qe.tex\", \"w\")\n",
    "text_file.write(latexCodeGenV2.getTableThree(tb33, tb34, dataSources, nDatas, percentageLHS, thresholdPercentages, targetColumns, \n",
    "                   \"Quantile estimation under different cutoff threshold(s). \",\n",
    "                   \"tb3_qe\", 0.75, True).strip())\n",
    "text_file.close()"
   ]
  },
  {
   "cell_type": "markdown",
   "metadata": {},
   "source": [
    "## Table 4"
   ]
  },
  {
   "cell_type": "code",
   "execution_count": 7,
   "metadata": {},
   "outputs": [],
   "source": [
    "dataSources = [\"gamma\",\"lognorm\", \"pareto\"]\n",
    "nDatas = [500]\n",
    "percentageLHSs = np.linspace(0.9, 0.99, 10).tolist()\n",
    "thresholdPercentage = 0.7\n",
    "targetColumns = ['(2,CHI2)','(2,KS)']\n",
    "text_file = open(\"./robustTailTable/table4.tex\", \"w\")\n",
    "text_file.write(latexCodeGenV2.getTableFour(tb4, dataSources, nDatas, percentageLHSs, thresholdPercentage, targetColumns, \n",
    "                   \"Tail probability estimation under different objective functions. \",\n",
    "                   \"tb4_tpe_{:}\".format(thresholdPercentage),0.7).strip())\n",
    "text_file.close()"
   ]
  },
  {
   "cell_type": "markdown",
   "metadata": {},
   "source": [
    "## Table 5: TBD "
   ]
  }
 ],
 "metadata": {
  "kernelspec": {
   "display_name": "Python 3",
   "language": "python",
   "name": "python3"
  },
  "language_info": {
   "codemirror_mode": {
    "name": "ipython",
    "version": 3
   },
   "file_extension": ".py",
   "mimetype": "text/x-python",
   "name": "python",
   "nbconvert_exporter": "python",
   "pygments_lexer": "ipython3",
   "version": "3.7.4"
  }
 },
 "nbformat": 4,
 "nbformat_minor": 5
}
