{
 "cells": [
  {
   "cell_type": "code",
   "execution_count": null,
   "metadata": {},
   "outputs": [],
   "source": [
    "import numpy as np\n",
    "import pandas as pd\n",
    "import matplotlib.pyplot as plt\n",
    "\n",
    "from rpy2.robjects.packages import importr\n",
    "\n",
    "POT = importr('POT')\n",
    "\n",
    "import rpy2.robjects as robjects"
   ]
  },
  {
   "cell_type": "code",
   "execution_count": null,
   "metadata": {},
   "outputs": [],
   "source": [
    "def normal_MC_IS_GPD(n, size, a, sigma):\n",
    "    data = np.random.normal(0, sigma, (n, size))\n",
    "    data_IS = data + a\n",
    "    data = np.mean(data, axis=0)\n",
    "    \n",
    "    MC = np.mean(data > a)\n",
    "    \n",
    "    IS = np.mean(np.where(np.mean(data_IS, axis=0) > a, 1, 0) * np.exp(-1/2*np.sum(data_IS ** 2, axis=0))/np.exp(-1/2*np.sum((data_IS-a)**2, axis=0)))\n",
    "    \n",
    "    u = float(np.quantile(data, 0.99))\n",
    "    scale, shape = POT.fitgpd(robjects.FloatVector(data), u)[0]\n",
    "    GPD99 = np.mean(data > u) * POT.pgpd(a, u, scale, shape, False)[0]\n",
    "    \n",
    "    u = float(np.quantile(data, 0.999))\n",
    "    scale, shape = POT.fitgpd(robjects.FloatVector(data), u)[0]\n",
    "    GPD999 = np.mean(data > u) * POT.pgpd(a, u, scale, shape, False)[0]\n",
    "    \n",
    "    u = float(np.quantile(data, 0.9999))\n",
    "    scale, shape = POT.fitgpd(robjects.FloatVector(data), u)[0]\n",
    "    GPD9999 = np.mean(data > u) * POT.pgpd(a, u, scale, shape, False)[0]\n",
    "\n",
    "    return MC, IS, GPD99, GPD999, GPD9999"
   ]
  },
  {
   "cell_type": "code",
   "execution_count": null,
   "metadata": {
    "scrolled": true
   },
   "outputs": [],
   "source": [
    "num = 1000\n",
    "n = 10\n",
    "size = 10 ** 6\n",
    "a = 2\n",
    "sigma = 1\n",
    "\n",
    "MC = np.zeros((num))\n",
    "IS = np.zeros((num))\n",
    "GPD99 = np.zeros((num))\n",
    "GPD999 = np.zeros((num))\n",
    "GPD9999 = np.zeros((num))\n",
    "\n",
    "for i in range(num):\n",
    "    np.random.seed(i)\n",
    "    MC[i], IS[i], GPD99[i], GPD999[i], GPD9999[i] = normal_MC_IS_GPD(n, size, a, sigma)\n",
    "np.save(f\"sample_mean_results/sample_mean_MC_normal_{num}_{n}_{size}_{a}_{sigma}.npy\", MC)\n",
    "np.save(f\"sample_mean_results/sample_mean_IS_normal_{num}_{n}_{size}_{a}_{sigma}.npy\", IS)\n",
    "np.save(f\"sample_mean_results/sample_mean_GPD_normal_{num}_{n}_{size}_{a}_{sigma}_99.npy\", GPD99)\n",
    "np.save(f\"sample_mean_results/sample_mean_GPD_normal_{num}_{n}_{size}_{a}_{sigma}_999.npy\", GPD999)\n",
    "np.save(f\"sample_mean_results/sample_mean_GPD_normal_{num}_{n}_{size}_{a}_{sigma}_9999.npy\", GPD9999)"
   ]
  },
  {
   "cell_type": "code",
   "execution_count": null,
   "metadata": {},
   "outputs": [],
   "source": [
    "num = 1000\n",
    "n = 10\n",
    "size = 10 ** 6\n",
    "a = 1.5\n",
    "sigma = 1\n",
    "\n",
    "MC = np.load(f\"sample_mean_results/sample_mean_MC_normal_{num}_{n}_{size}_{a}_{sigma}.npy\")\n",
    "IS = np.load(f\"sample_mean_results/sample_mean_IS_normal_{num}_{n}_{size}_{a}_{sigma}.npy\")\n",
    "GPD99 = np.load(f\"sample_mean_results/sample_mean_GPD_normal_{num}_{n}_{size}_{a}_{sigma}_99.npy\")\n",
    "GPD999 = np.load(f\"sample_mean_results/sample_mean_GPD_normal_{num}_{n}_{size}_{a}_{sigma}_999.npy\")\n",
    "GPD9999= np.load(f\"sample_mean_results/sample_mean_GPD_normal_{num}_{n}_{size}_{a}_{sigma}_9999.npy\")\n",
    "\n",
    "names = [\"MC\", \"IS\", \"GPD-99\", \"GPD-999\", \"GPD-9999\"]\n",
    "results = [MC, IS, GPD99, GPD999, GPD9999]\n",
    "\n",
    "for name, res in zip(names, results):\n",
    "    print(f\"{name}: mean {np.mean(res):.3e}, sd {np.std(res):.3e}\")"
   ]
  },
  {
   "cell_type": "code",
   "execution_count": null,
   "metadata": {},
   "outputs": [],
   "source": [
    "import scipy.stats\n",
    "\n",
    "def pareto_MC_CMC_GPD(n, size, a, t, alpha):\n",
    "    data = scipy.stats.pareto.rvs(alpha, scale=t, size=(n, size))\n",
    "    \n",
    "    CMC = n * np.mean(1 - scipy.stats.pareto.cdf(np.maximum(np.max(data[:, :size-1], axis=0), n * a - np.sum(data[:, :size-1], axis=0)), alpha, scale=t))\n",
    "    \n",
    "    data = np.mean(data, axis=0)\n",
    "    \n",
    "    MC = np.mean(data > a)\n",
    "    \n",
    "    u = float(np.quantile(data, 0.99))\n",
    "    scale, shape = POT.fitgpd(robjects.FloatVector(data), u)[0]\n",
    "    GPD99 = np.mean(data > u) * POT.pgpd(a, u, scale, shape, False)[0]\n",
    "    \n",
    "    u = float(np.quantile(data, 0.999))\n",
    "    scale, shape = POT.fitgpd(robjects.FloatVector(data), u)[0]\n",
    "    GPD999 = np.mean(data > u) * POT.pgpd(a, u, scale, shape, False)[0]\n",
    "    \n",
    "    u = float(np.quantile(data, 0.9999))\n",
    "    scale, shape = POT.fitgpd(robjects.FloatVector(data), u)[0]\n",
    "    GPD9999 = np.mean(data > u) * POT.pgpd(a, u, scale, shape, False)[0]\n",
    "\n",
    "    return MC, CMC, GPD99, GPD999, GPD9999"
   ]
  },
  {
   "cell_type": "code",
   "execution_count": null,
   "metadata": {},
   "outputs": [],
   "source": [
    "num = 1000\n",
    "n = 10\n",
    "size = 10 ** 6\n",
    "a = 5.234375\n",
    "t = 1\n",
    "alpha = 5\n",
    "\n",
    "MC = np.zeros((num))\n",
    "CMC = np.zeros((num))\n",
    "GPD99 = np.zeros((num))\n",
    "GPD999 = np.zeros((num))\n",
    "GPD9999 = np.zeros((num))\n",
    "\n",
    "for i in range(num):\n",
    "    np.random.seed(i)\n",
    "    MC[i], CMC[i], GPD99[i], GPD999[i], GPD9999[i] = pareto_MC_CMC_GPD(n, size, a, t, alpha)\n",
    "    \n",
    "np.save(f\"sample_mean_results/sample_mean_MC_pareto_{num}_{n}_{size}_{a}_{t}_{alpha}.npy\", MC)\n",
    "np.save(f\"sample_mean_results/sample_mean_CMC_pareto_{num}_{n}_{size}_{a}_{t}_{alpha}.npy\", CMC)\n",
    "np.save(f\"sample_mean_results/sample_mean_GPD_pareto_{num}_{n}_{size}_{a}_{t}_{alpha}_99.npy\", GPD99)\n",
    "np.save(f\"sample_mean_results/sample_mean_GPD_pareto_{num}_{n}_{size}_{a}_{t}_{alpha}_999.npy\", GPD999)\n",
    "np.save(f\"sample_mean_results/sample_mean_GPD_pareto_{num}_{n}_{size}_{a}_{t}_{alpha}_9999.npy\", GPD9999)"
   ]
  },
  {
   "cell_type": "code",
   "execution_count": null,
   "metadata": {},
   "outputs": [],
   "source": [
    "num = 1000\n",
    "n = 10\n",
    "size = 10 ** 6\n",
    "a = 5.234375\n",
    "t = 1\n",
    "alpha = 5\n",
    "\n",
    "MC = np.load(f\"sample_mean_results/sample_mean_MC_pareto_{num}_{n}_{size}_{a}_{t}_{alpha}.npy\")\n",
    "CMC = np.load(f\"sample_mean_results/sample_mean_CMC_pareto_{num}_{n}_{size}_{a}_{t}_{alpha}.npy\")\n",
    "GPD99 = np.load(f\"sample_mean_results/sample_mean_GPD_pareto_{num}_{n}_{size}_{a}_{t}_{alpha}_99.npy\")\n",
    "GPD999 = np.load(f\"sample_mean_results/sample_mean_GPD_pareto_{num}_{n}_{size}_{a}_{t}_{alpha}_999.npy\")\n",
    "GPD9999= np.load(f\"sample_mean_results/sample_mean_GPD_pareto_{num}_{n}_{size}_{a}_{t}_{alpha}_9999.npy\")\n",
    "\n",
    "names = [\"MC\", \"CMC\", \"GPD-99\", \"GPD-999\", \"GPD-9999\"]\n",
    "results = [MC, CMC, GPD99, GPD999, GPD9999]\n",
    "\n",
    "for name, res in zip(names, results):\n",
    "    print(f\"{name}: mean {np.mean(res):.3e}, sd {np.std(res):.3e}\")"
   ]
  },
  {
   "cell_type": "code",
   "execution_count": null,
   "metadata": {},
   "outputs": [],
   "source": []
  }
 ],
 "metadata": {
  "kernelspec": {
   "display_name": "Python 3",
   "language": "python",
   "name": "python3"
  },
  "language_info": {
   "codemirror_mode": {
    "name": "ipython",
    "version": 3
   },
   "file_extension": ".py",
   "mimetype": "text/x-python",
   "name": "python",
   "nbconvert_exporter": "python",
   "pygments_lexer": "ipython3",
   "version": "3.7.4"
  }
 },
 "nbformat": 4,
 "nbformat_minor": 2
}
