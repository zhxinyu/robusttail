{
 "cells": [
  {
   "cell_type": "code",
   "execution_count": 1,
   "id": "4ec7105c",
   "metadata": {},
   "outputs": [],
   "source": [
    "import numpy as np\n",
    "import pandas as pd\n",
    "import itertools\n",
    "import os\n",
    "import readDataV2\n",
    "import latexCodeGenV2"
   ]
  },
  {
   "cell_type": "code",
   "execution_count": 2,
   "id": "0987bc60",
   "metadata": {},
   "outputs": [],
   "source": [
    "FILE_DIR = \"large\"\n",
    "nExperimentReptition = 200\n",
    "randomSeed = 20220222\n",
    "trueValue = 0.005\n",
    "dataDistributions = ['gamma', 'lognorm', 'pareto']\n",
    "dataSizes = [500]"
   ]
  },
  {
   "cell_type": "markdown",
   "id": "b40b92a5",
   "metadata": {},
   "source": [
    "## 1. Read data\n",
    "\n",
    "- Tail probability estimation with single threshold\n",
    "- Tail probability estimation with multiple thresholds\n",
    "- Quantile estimation with single threshold\n",
    "- Quantile estimation with multiple thresholds"
   ]
  },
  {
   "cell_type": "code",
   "execution_count": 3,
   "id": "3bceb56f-4d27-4b21-9977-213d238d6ec7",
   "metadata": {
    "tags": []
   },
   "outputs": [],
   "source": [
    "# tb1 = readDataV2.tableOne().groupby(by=['dataDistribution','dataSize','percentageLHS','thresholdPercentage'])\n",
    "# tb2 = readDataV2.tableTwo().groupby(by=['dataDistribution','dataSize','quantitleValue','thresholdPercentage'])\n",
    "# tb31 = readDataV2.tableThreeOne().groupby(by=['dataDistribution','dataSize','percentageLHS','thresholdPercentage'])\n",
    "# tb32 = readDataV2.tableThreeTwo().groupby(by=['dataDistribution','dataSize','percentageLHS','thresholdPercentage'])\n",
    "# tb33 = readDataV2.tableThreeThree().groupby(by=['dataDistribution','dataSize','quantitleValue','thresholdPercentage'])\n",
    "# tb34 = readDataV2.tableThreeFour().groupby(by=['dataDistribution','dataSize','quantitleValue','thresholdPercentage'])\n",
    "# tb4 = readDataV2.tableFour().groupby(by=['dataDistribution','dataSize','percentageLHS','thresholdPercentage'])\n",
    "tb5 = pd.read_csv(os.path.join(FILE_DIR, 'tableFive_rev1.csv')).groupby(by=['Data Source', 'nData', 'percentageLHS'])\n"
   ]
  },
  {
   "cell_type": "markdown",
   "id": "ccfe2889",
   "metadata": {},
   "source": [
    "## Latex Code Generation"
   ]
  },
  {
   "cell_type": "markdown",
   "id": "2c9a26d3",
   "metadata": {},
   "source": [
    "## Table 1"
   ]
  },
  {
   "cell_type": "code",
   "execution_count": 5,
   "id": "6cbc22ef",
   "metadata": {},
   "outputs": [],
   "source": [
    "dataSources = [\"gamma\",\"lognorm\", \"pareto\"]\n",
    "nDatas = [500]\n",
    "percentageLHS = 0.99\n",
    "thresholdPercentage = 0.70\n",
    "targetColumns = ['(0,CHI2)','(1,CHI2)','(2,CHI2)','(0,KS)','(1,KS)','(2,KS)']\n",
    "text_file = open(\"./robustTailTable/table1.tex\", \"w\")\n",
    "text_file.write(latexCodeGenV2.getTableOne(tb1, dataSources, nDatas, percentageLHS, thresholdPercentage, targetColumns, \n",
    "                   \"Tail probability estimation under different constraint settings. \",\n",
    "                   \"tb1_tpe\", 0.8).strip())\n",
    "text_file.close()"
   ]
  },
  {
   "cell_type": "markdown",
   "id": "375f77da",
   "metadata": {},
   "source": [
    "## Table 2"
   ]
  },
  {
   "cell_type": "code",
   "execution_count": 4,
   "id": "8ea6c9be",
   "metadata": {},
   "outputs": [],
   "source": [
    "dataSources = [\"gamma\",\"lognorm\", \"pareto\"]\n",
    "nDatas = [500]\n",
    "percentageLHS = 0.99\n",
    "thresholdPercentage = 0.70\n",
    "targetColumns = ['(0,CHI2)','(1,CHI2)','(2,CHI2)']\n",
    "text_file = open(\"./robustTailTable/table2.tex\", \"w\")\n",
    "text_file.write(latexCodeGenV2.getTableTwo(tb2, dataSources, nDatas, percentageLHS, thresholdPercentage, targetColumns, \n",
    "                   \"Quantile estimation under different constraint settings. \",\n",
    "                   \"tb2_qe\", 0.75).strip())\n",
    "text_file.close()"
   ]
  },
  {
   "cell_type": "markdown",
   "id": "3be86a83",
   "metadata": {},
   "source": [
    "## Table 3"
   ]
  },
  {
   "cell_type": "code",
   "execution_count": 8,
   "id": "ae87e2b0",
   "metadata": {},
   "outputs": [],
   "source": [
    "dataSources = [\"gamma\",\"lognorm\", \"pareto\"]\n",
    "nDatas = [500]\n",
    "percentageLHS = 0.99\n",
    "thresholdPercentages = 0.6\n",
    "targetColumns = ['(2,CHI2)']\n",
    "text_file = open(\"./robustTailTable/table3_tpe.tex\", \"w\")\n",
    "text_file.write(latexCodeGenV2.getTableThree(tb31, tb32, dataSources, nDatas, percentageLHS, thresholdPercentages, targetColumns, \n",
    "                   \"Tail probablity estimation under different cutoff threshold(s).\",\n",
    "                   \"tb3_tpe\", 0.75).strip())\n",
    "text_file = open(\"./robustTailTable/table3_qe.tex\", \"w\")\n",
    "text_file.write(latexCodeGenV2.getTableThree(tb33, tb34, dataSources, nDatas, percentageLHS, thresholdPercentages, targetColumns, \n",
    "                   \"Quantile estimation under different cutoff threshold(s). \",\n",
    "                   \"tb3_qe\", 0.75, True).strip())\n",
    "text_file.close()"
   ]
  },
  {
   "cell_type": "markdown",
   "id": "29f8ce33",
   "metadata": {},
   "source": [
    "## Table 4"
   ]
  },
  {
   "cell_type": "code",
   "execution_count": 9,
   "id": "d57c4f9a",
   "metadata": {},
   "outputs": [],
   "source": [
    "dataSources = [\"gamma\",\"lognorm\", \"pareto\"]\n",
    "nDatas = [500]\n",
    "percentageLHSs = np.linspace(0.9, 0.99, 10).tolist()\n",
    "thresholdPercentage = 0.7\n",
    "targetColumns = ['(2,CHI2)','(2,KS)']\n",
    "text_file = open(\"./robustTailTable/table4.tex\", \"w\")\n",
    "text_file.write(latexCodeGenV2.getTableFour(tb4, dataSources, nDatas, percentageLHSs, thresholdPercentage, targetColumns, \n",
    "                   \"Tail probability estimation under different objective functions. \",\n",
    "                   \"tb4_tpe_{:}\".format(thresholdPercentage),0.6).strip())\n",
    "text_file.close()"
   ]
  },
  {
   "cell_type": "markdown",
   "id": "38e9b78e",
   "metadata": {},
   "source": [
    "## Table 5: TBD "
   ]
  },
  {
   "cell_type": "code",
   "execution_count": 8,
   "id": "3fd5365d-1eb6-4cb0-ba3e-c7eaf0eaeb9c",
   "metadata": {},
   "outputs": [],
   "source": [
    "\n",
    "dataSources = [\"gamma\",\"lognorm\", \"pareto\"]\n",
    "nDatas = [500]\n",
    "percentageLHSs = np.linspace(0.9, 0.95, 11).tolist()\n",
    "targetColumns = ['Upper Bound']\n",
    "text_file = open(\"./robustTailTable/table5.tex\", \"w\")\n",
    "text_file.write(latexCodeGenV2.getTableFive(tb5, dataSources, nDatas, percentageLHSs, targetColumns,\n",
    "                   \"Tail probability estimation under different objective functions with the Peak-Over-Threshold method.\",\n",
    "                   \"tb5_tpe\",0.8).strip())\n",
    "text_file.close()"
   ]
  },
  {
   "cell_type": "code",
   "execution_count": 27,
   "id": "89ee9a52-2de5-496a-94e0-056f749ef16a",
   "metadata": {},
   "outputs": [
    {
     "name": "stderr",
     "output_type": "stream",
     "text": [
      "/Users/xinyuzhang/envalpha/lib/python3.8/site-packages/pandas/core/computation/expressions.py:204: UserWarning: evaluating in Python space because the '*' operator is not supported by numexpr for the bool dtype, use '&' instead\n",
      "  warnings.warn(\n"
     ]
    },
    {
     "data": {
      "text/plain": [
       "0.995"
      ]
     },
     "execution_count": 27,
     "metadata": {},
     "output_type": "execute_result"
    }
   ],
   "source": [
    "np.sum((tb5.get_group(('lognorm',500, 0.99))['Lower Bound']<=tb5.get_group(('lognorm',500, 0.99))['True Value']) * \\\n",
    "(tb5.get_group(('lognorm',500, 0.99))['True Value']<=tb5.get_group(('lognorm',500, 0.99))['Upper Bound']))/200"
   ]
  },
  {
   "cell_type": "code",
   "execution_count": null,
   "id": "c2083054-c5d2-4640-820c-dd287e98774d",
   "metadata": {},
   "outputs": [],
   "source": []
  },
  {
   "cell_type": "code",
   "execution_count": 17,
   "id": "7d970c64-d2a2-40b2-9327-0d7f5fe3321d",
   "metadata": {},
   "outputs": [],
   "source": [
    "\n",
    "dataSources = [\"gamma\",\"lognorm\", \"pareto\"]\n",
    "nDatas = [500]\n",
    "percentageLHSs = np.linspace(0.9, 0.99, 10).tolist()\n",
    "targetColumns = ['Upper Bound']\n",
    "text_file = open(\"./robustTailTable/table5_w_profile.tex\", \"w\")\n",
    "text_file.write(latexCodeGenV2.getTableFive(tb5, dataSources, nDatas, percentageLHSs, targetColumns,\n",
    "                   \"Tail probability estimation under different objective functions with the Peak-Over-Threshold method.\",\n",
    "                   \"tb5_tpe\",0.8).strip())\n",
    "text_file.close()"
   ]
  },
  {
   "cell_type": "code",
   "execution_count": null,
   "id": "fb63dca8-5cf4-4e5f-95c9-7805c1a3a0b1",
   "metadata": {},
   "outputs": [],
   "source": [
    "\n",
    "dataSources = [\"gamma\",\"lognorm\", \"pareto\"]\n",
    "nDatas = [500]\n",
    "percentageLHSs = [0.9, 0.95, 0.99]\n",
    "targetColumns = ['Upper Bound']\n",
    "text_file = open(\"./robustTailTable/table5_w_profile_short.tex\", \"w\")\n",
    "text_file.write(latexCodeGenV2.getTableFive(tb5, dataSources, nDatas, percentageLHSs, targetColumns,\n",
    "                   \"Tail probability estimation under different objective functions with the Peak-Over-Threshold method.\",\n",
    "                   \"tb5_tpe_profile_likelihood\",0.8).strip())\n",
    "text_file.close()"
   ]
  },
  {
   "cell_type": "code",
   "execution_count": 33,
   "id": "8ac72867-cce4-46d0-a56b-eaf4259cf602",
   "metadata": {
    "tags": []
   },
   "outputs": [],
   "source": [
    "import numpy as np"
   ]
  },
  {
   "cell_type": "code",
   "execution_count": 35,
   "id": "e598bbb2-305f-4b5d-a477-b4c05ded3201",
   "metadata": {
    "tags": []
   },
   "outputs": [
    {
     "data": {
      "text/html": [
       "<div>\n",
       "<style scoped>\n",
       "    .dataframe tbody tr th:only-of-type {\n",
       "        vertical-align: middle;\n",
       "    }\n",
       "\n",
       "    .dataframe tbody tr th {\n",
       "        vertical-align: top;\n",
       "    }\n",
       "\n",
       "    .dataframe thead th {\n",
       "        text-align: right;\n",
       "    }\n",
       "</style>\n",
       "<table border=\"1\" class=\"dataframe\">\n",
       "  <thead>\n",
       "    <tr style=\"text-align: right;\">\n",
       "      <th></th>\n",
       "      <th>Data Source</th>\n",
       "      <th>nData</th>\n",
       "      <th>percentageLHS</th>\n",
       "      <th>Lower Bound</th>\n",
       "      <th>Upper Bound</th>\n",
       "      <th>True Value</th>\n",
       "      <th>Repetition Index</th>\n",
       "    </tr>\n",
       "  </thead>\n",
       "  <tbody>\n",
       "    <tr>\n",
       "      <th>0</th>\n",
       "      <td>gamma</td>\n",
       "      <td>500</td>\n",
       "      <td>0.9</td>\n",
       "      <td>0.004665</td>\n",
       "      <td>0.005625</td>\n",
       "      <td>0.005</td>\n",
       "      <td>0</td>\n",
       "    </tr>\n",
       "    <tr>\n",
       "      <th>1</th>\n",
       "      <td>gamma</td>\n",
       "      <td>500</td>\n",
       "      <td>0.9</td>\n",
       "      <td>0.003840</td>\n",
       "      <td>0.004905</td>\n",
       "      <td>0.005</td>\n",
       "      <td>1</td>\n",
       "    </tr>\n",
       "    <tr>\n",
       "      <th>2</th>\n",
       "      <td>gamma</td>\n",
       "      <td>500</td>\n",
       "      <td>0.9</td>\n",
       "      <td>0.004706</td>\n",
       "      <td>0.005363</td>\n",
       "      <td>0.005</td>\n",
       "      <td>2</td>\n",
       "    </tr>\n",
       "    <tr>\n",
       "      <th>3</th>\n",
       "      <td>gamma</td>\n",
       "      <td>500</td>\n",
       "      <td>0.9</td>\n",
       "      <td>0.004228</td>\n",
       "      <td>0.005132</td>\n",
       "      <td>0.005</td>\n",
       "      <td>3</td>\n",
       "    </tr>\n",
       "    <tr>\n",
       "      <th>4</th>\n",
       "      <td>gamma</td>\n",
       "      <td>500</td>\n",
       "      <td>0.9</td>\n",
       "      <td>0.004028</td>\n",
       "      <td>0.005323</td>\n",
       "      <td>0.005</td>\n",
       "      <td>4</td>\n",
       "    </tr>\n",
       "    <tr>\n",
       "      <th>...</th>\n",
       "      <td>...</td>\n",
       "      <td>...</td>\n",
       "      <td>...</td>\n",
       "      <td>...</td>\n",
       "      <td>...</td>\n",
       "      <td>...</td>\n",
       "      <td>...</td>\n",
       "    </tr>\n",
       "    <tr>\n",
       "      <th>195</th>\n",
       "      <td>gamma</td>\n",
       "      <td>500</td>\n",
       "      <td>0.9</td>\n",
       "      <td>0.004112</td>\n",
       "      <td>0.004709</td>\n",
       "      <td>0.005</td>\n",
       "      <td>195</td>\n",
       "    </tr>\n",
       "    <tr>\n",
       "      <th>196</th>\n",
       "      <td>gamma</td>\n",
       "      <td>500</td>\n",
       "      <td>0.9</td>\n",
       "      <td>0.004471</td>\n",
       "      <td>0.006003</td>\n",
       "      <td>0.005</td>\n",
       "      <td>196</td>\n",
       "    </tr>\n",
       "    <tr>\n",
       "      <th>197</th>\n",
       "      <td>gamma</td>\n",
       "      <td>500</td>\n",
       "      <td>0.9</td>\n",
       "      <td>0.006835</td>\n",
       "      <td>0.011589</td>\n",
       "      <td>0.005</td>\n",
       "      <td>197</td>\n",
       "    </tr>\n",
       "    <tr>\n",
       "      <th>198</th>\n",
       "      <td>gamma</td>\n",
       "      <td>500</td>\n",
       "      <td>0.9</td>\n",
       "      <td>0.004374</td>\n",
       "      <td>0.005606</td>\n",
       "      <td>0.005</td>\n",
       "      <td>198</td>\n",
       "    </tr>\n",
       "    <tr>\n",
       "      <th>199</th>\n",
       "      <td>gamma</td>\n",
       "      <td>500</td>\n",
       "      <td>0.9</td>\n",
       "      <td>0.004026</td>\n",
       "      <td>0.005504</td>\n",
       "      <td>0.005</td>\n",
       "      <td>199</td>\n",
       "    </tr>\n",
       "  </tbody>\n",
       "</table>\n",
       "<p>200 rows × 7 columns</p>\n",
       "</div>"
      ],
      "text/plain": [
       "    Data Source  nData  percentageLHS  Lower Bound  Upper Bound  True Value  \\\n",
       "0         gamma    500            0.9     0.004665     0.005625       0.005   \n",
       "1         gamma    500            0.9     0.003840     0.004905       0.005   \n",
       "2         gamma    500            0.9     0.004706     0.005363       0.005   \n",
       "3         gamma    500            0.9     0.004228     0.005132       0.005   \n",
       "4         gamma    500            0.9     0.004028     0.005323       0.005   \n",
       "..          ...    ...            ...          ...          ...         ...   \n",
       "195       gamma    500            0.9     0.004112     0.004709       0.005   \n",
       "196       gamma    500            0.9     0.004471     0.006003       0.005   \n",
       "197       gamma    500            0.9     0.006835     0.011589       0.005   \n",
       "198       gamma    500            0.9     0.004374     0.005606       0.005   \n",
       "199       gamma    500            0.9     0.004026     0.005504       0.005   \n",
       "\n",
       "     Repetition Index  \n",
       "0                   0  \n",
       "1                   1  \n",
       "2                   2  \n",
       "3                   3  \n",
       "4                   4  \n",
       "..                ...  \n",
       "195               195  \n",
       "196               196  \n",
       "197               197  \n",
       "198               198  \n",
       "199               199  \n",
       "\n",
       "[200 rows x 7 columns]"
      ]
     },
     "execution_count": 35,
     "metadata": {},
     "output_type": "execute_result"
    }
   ],
   "source": [
    "tb5.get_group(('gamma', 500, np.round(percentageLHSs[0],2)))"
   ]
  },
  {
   "cell_type": "code",
   "execution_count": null,
   "id": "bfcff337-8d67-40e7-a67d-4db095930d01",
   "metadata": {},
   "outputs": [],
   "source": []
  }
 ],
 "metadata": {
  "kernelspec": {
   "display_name": "Python 3 (ipykernel)",
   "language": "python",
   "name": "python3"
  },
  "language_info": {
   "codemirror_mode": {
    "name": "ipython",
    "version": 3
   },
   "file_extension": ".py",
   "mimetype": "text/x-python",
   "name": "python",
   "nbconvert_exporter": "python",
   "pygments_lexer": "ipython3",
   "version": "3.11.4"
  }
 },
 "nbformat": 4,
 "nbformat_minor": 5
}
